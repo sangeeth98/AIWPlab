{
 "cells": [
  {
   "cell_type": "code",
   "execution_count": 1,
   "metadata": {},
   "outputs": [],
   "source": [
    "import numpy as np\n",
    "import matplotlib.pyplot as plt\n",
    "from sklearn import preprocessing\n",
    "from sklearn.metrics import classification_report\n",
    "from sklearn.metrics import confusion_matrix\n",
    "from sklearn.metrics import accuracy_score\n",
    "import warnings\n",
    "warnings.filterwarnings(\"ignore\")\n",
    "from sklearn.model_selection import train_test_split\n",
    "from sklearn.model_selection import cross_val_score\n",
    "import warnings\n",
    "warnings.filterwarnings(\"ignore\")\n",
    "import itertools\n",
    "import timeit"
   ]
  },
  {
   "cell_type": "code",
   "execution_count": 2,
   "metadata": {},
   "outputs": [],
   "source": [
    "# Linear SVM\n",
    "from sklearn.svm import LinearSVC\n",
    "from sklearn.multiclass import OneVsOneClassifier"
   ]
  },
  {
   "cell_type": "code",
   "execution_count": 3,
   "metadata": {},
   "outputs": [],
   "source": [
    "# Input file containing data\n",
    "input_file = 'income_data.txt'"
   ]
  },
  {
   "cell_type": "code",
   "execution_count": 4,
   "metadata": {},
   "outputs": [],
   "source": [
    "# Read the data\n",
    "X = []\n",
    "y = []\n",
    "count_class1 = 0\n",
    "count_class2 = 0\n",
    "max_datapoints = 25000\n",
    "# dictionaries to benchmark\n",
    "scores = {}\n",
    "time = {}\n",
    "\n",
    "#Pre-processing\n",
    "with open(input_file, 'r') as f:\n",
    "    for line in f.readlines():\n",
    "        if count_class1 >= max_datapoints and count_class2 >= max_datapoints:\n",
    "            break\n",
    "        if '?' in line:\n",
    "            continue\n",
    "\n",
    "        data = line[:-1].split(', ')\n",
    "\n",
    "        if data[-1] == '<=50K' and count_class1 < max_datapoints:\n",
    "            X.append(data)\n",
    "            count_class1 += 1\n",
    "\n",
    "        if data[-1] == '>50K' and count_class2 < max_datapoints:\n",
    "            X.append(data)\n",
    "            count_class2 += 1\n",
    "# Convert to numpy array\n",
    "X = np.array(X)"
   ]
  },
  {
   "cell_type": "code",
   "execution_count": 5,
   "metadata": {},
   "outputs": [],
   "source": [
    "# Convert string data to numerical data\n",
    "label_encoder = [] \n",
    "X_encoded = np.empty(X.shape)\n",
    "for i,item in enumerate(X[0]):\n",
    "    if item.isdigit(): \n",
    "        X_encoded[:, i] = X[:, i]\n",
    "    else:\n",
    "        label_encoder.append(preprocessing.LabelEncoder())\n",
    "        X_encoded[:, i] = label_encoder[-1].fit_transform(X[:, i])\n",
    "\n",
    "X = X_encoded[:, :-1].astype(int)\n",
    "y = X_encoded[:, -1].astype(int)"
   ]
  },
  {
   "cell_type": "code",
   "execution_count": 6,
   "metadata": {},
   "outputs": [],
   "source": [
    "# Create SVM classifier\n",
    "classifier = OneVsOneClassifier(LinearSVC(random_state=0))\n",
    "X_train, X_test, y_train, y_test = train_test_split(X, y, test_size=0.3, random_state=5)"
   ]
  },
  {
   "cell_type": "code",
   "execution_count": 7,
   "metadata": {},
   "outputs": [],
   "source": [
    "# Note down start time\n",
    "start = timeit.default_timer()\n",
    "# Train the classifier\n",
    "classifier.fit(X, y)\n",
    "# Cross validation\n",
    "classifier.fit(X_train, y_train)\n",
    "y_test_pred = classifier.predict(X_test)\n",
    "# Note down stop time\n",
    "stop = timeit.default_timer()"
   ]
  },
  {
   "cell_type": "code",
   "execution_count": 8,
   "metadata": {},
   "outputs": [
    {
     "name": "stdout",
     "output_type": "stream",
     "text": [
      "SVM classifier results\n",
      "F1 score: 71.35%\n",
      "Accuracy: 78.48381036578628%\n"
     ]
    }
   ],
   "source": [
    "# Compute the F1 score of the SVM classifier\n",
    "f1 = cross_val_score(classifier, X, y, scoring='f1_weighted', cv=3)\n",
    "print(\"SVM classifier results\")\n",
    "print(\"F1 score: \" + str(round(100*f1.mean(), 2)) + \"%\")\n",
    "# Accuracy\n",
    "a = accuracy_score(y_test_pred,y_test)\n",
    "print(\"Accuracy: \" + str(a*100) + \"%\")"
   ]
  },
  {
   "cell_type": "code",
   "execution_count": 9,
   "metadata": {},
   "outputs": [
    {
     "data": {
      "image/png": "[encoded data removed]",
      "text/plain": [
       "<Figure size 432x288 with 2 Axes>"
      ]
     },
     "metadata": {
      "needs_background": "light"
     },
     "output_type": "display_data"
    }
   ],
   "source": [
    "# Confusion matrix\n",
    "conf_mat = confusion_matrix(y_test,y_test_pred)\n",
    "plt.imshow(conf_mat, interpolation='nearest', cmap=plt.cm.Blues)\n",
    "plt.title('Confusion Matrix - SVM Classifier')\n",
    "plt.colorbar()\n",
    "ticks = np.arange(2)\n",
    "plt.xticks(ticks,ticks)\n",
    "plt.yticks(ticks,ticks)\n",
    "\n",
    "thresh = conf_mat.max()/2.\n",
    "for i,j in itertools.product(range(conf_mat.shape[0]),range(conf_mat.shape[1])):\n",
    "    plt.text(j,i,format(conf_mat[i,j],'d'),\n",
    "            horizontalalignment = \"center\",\n",
    "            color=\"white\" if conf_mat[i,j]>thresh else\"black\")\n",
    "plt.ylabel('True Labels')\n",
    "plt.xlabel('Predicted Labels')\n",
    "plt.show()"
   ]
  },
  {
   "cell_type": "code",
   "execution_count": 10,
   "metadata": {},
   "outputs": [
    {
     "name": "stdout",
     "output_type": "stream",
     "text": [
      "              precision    recall  f1-score   support\n",
      "\n",
      "           0       0.99      0.78      0.87      8527\n",
      "           1       0.19      0.84      0.31       522\n",
      "\n",
      "    accuracy                           0.78      9049\n",
      "   macro avg       0.59      0.81      0.59      9049\n",
      "weighted avg       0.94      0.78      0.84      9049\n",
      "\n",
      "Time taken for SVM 13.275299517999883\n"
     ]
    }
   ],
   "source": [
    "# Accuracy and Classification report\n",
    "print(classification_report(y_test_pred,y_test))\n",
    "print('Time taken for SVM',stop-start)"
   ]
  },
  {
   "cell_type": "code",
   "execution_count": 11,
   "metadata": {},
   "outputs": [],
   "source": [
    "scores['SVM'] = a*100\n",
    "time['SVM'] = stop-start"
   ]
  },
  {
   "cell_type": "code",
   "execution_count": 12,
   "metadata": {},
   "outputs": [],
   "source": [
    "# GaussianNB classifier\n",
    "from sklearn.naive_bayes import GaussianNB\n",
    "classifier = GaussianNB()"
   ]
  },
  {
   "cell_type": "code",
   "execution_count": 13,
   "metadata": {},
   "outputs": [],
   "source": [
    "# Note start time\n",
    "start = timeit.default_timer()\n",
    "# Train classifier\n",
    "classifier.fit(X,y)\n",
    "# predict the values for training data\n",
    "y_pred = classifier.predict(X)\n",
    "# Note stop time\n",
    "stop = timeit.default_timer()"
   ]
  },
  {
   "cell_type": "code",
   "execution_count": 14,
   "metadata": {},
   "outputs": [
    {
     "name": "stdout",
     "output_type": "stream",
     "text": [
      "Gaussian Native Bayes classfier results\n",
      "Accuracy: 78.85 %\n",
      "Time 0.05354986200018175\n"
     ]
    }
   ],
   "source": [
    "# Computing accuracy and time taken\n",
    "accuracy = 100*(y == y_pred).sum()/X.shape[0]\n",
    "print(\"Gaussian Native Bayes classfier results\")\n",
    "print(\"Accuracy: \" + str(round(accuracy,2)), \"%\")\n",
    "print(\"Time\",stop-start)\n",
    "time['Naive Bayes'] = stop-start"
   ]
  },
  {
   "cell_type": "code",
   "execution_count": 15,
   "metadata": {},
   "outputs": [
    {
     "data": {
      "image/png": "[encoded data removed]",
      "text/plain": [
       "<Figure size 432x288 with 2 Axes>"
      ]
     },
     "metadata": {
      "needs_background": "light"
     },
     "output_type": "display_data"
    }
   ],
   "source": [
    "conf_mat = confusion_matrix(y,y_pred)\n",
    "plt.imshow(conf_mat, interpolation='nearest', cmap=plt.cm.Blues)\n",
    "plt.title('Confusion Matrix for Naive Bayes')\n",
    "plt.colorbar()\n",
    "ticks = np.arange(2)\n",
    "plt.xticks(ticks,ticks)\n",
    "plt.yticks(ticks,ticks)\n",
    "\n",
    "thresh = conf_mat.max()/2\n",
    "for i,j in itertools.product(range(conf_mat.shape[0]),range(conf_mat.shape[1])):\n",
    "    plt.text(j,i, format(conf_mat[i,j],'d'),\n",
    "             horizontalalignment = 'center',\n",
    "             color = 'white' if conf_mat[i,j]>thresh else 'black')\n",
    "plt.ylabel('True Labels')\n",
    "plt.xlabel('Predicted Labels')\n",
    "plt.show()"
   ]
  },
  {
   "cell_type": "code",
   "execution_count": 16,
   "metadata": {},
   "outputs": [
    {
     "name": "stdout",
     "output_type": "stream",
     "text": [
      "True Negatives:  21457\n",
      "True Positives:  2325\n",
      "False Negatives:  5183\n",
      "False Positives:  1197\n",
      "Accuracy 78.85\n"
     ]
    }
   ],
   "source": [
    "# Accuracy and Classification of naive bayes\n",
    "tn, fp, fn, tp = conf_mat.ravel()\n",
    "print(\"True Negatives: \",tn)\n",
    "print(\"True Positives: \",tp)\n",
    "print(\"False Negatives: \",fn)\n",
    "print(\"False Positives: \",fp)\n",
    "\n",
    "Accuracy = (tn+tp)*100/(tp+tn+fp+fn)\n",
    "print(\"Accuracy %.2f\"%(Accuracy))\n",
    "scores['Naive Bayes'] = Accuracy"
   ]
  },
  {
   "cell_type": "code",
   "execution_count": 17,
   "metadata": {},
   "outputs": [
    {
     "name": "stdout",
     "output_type": "stream",
     "text": [
      "              precision    recall  f1-score   support\n",
      "\n",
      "           0       0.81      0.95      0.87     22654\n",
      "           1       0.66      0.31      0.42      7508\n",
      "\n",
      "    accuracy                           0.79     30162\n",
      "   macro avg       0.73      0.63      0.65     30162\n",
      "weighted avg       0.77      0.79      0.76     30162\n",
      "\n"
     ]
    }
   ],
   "source": [
    "# Classification report\n",
    "print(classification_report(y,y_pred))"
   ]
  },
  {
   "cell_type": "code",
   "execution_count": 18,
   "metadata": {},
   "outputs": [],
   "source": [
    "# Logistic Regression\n",
    "from sklearn.linear_model import LogisticRegression\n",
    "classifier = LogisticRegression()"
   ]
  },
  {
   "cell_type": "code",
   "execution_count": 19,
   "metadata": {},
   "outputs": [],
   "source": [
    "x_train,x_test,y_train,y_test = train_test_split(X,y,test_size = 0.3)"
   ]
  },
  {
   "cell_type": "code",
   "execution_count": 20,
   "metadata": {},
   "outputs": [
    {
     "name": "stdout",
     "output_type": "stream",
     "text": [
      "[0 0 1 ... 0 0 0]\n"
     ]
    }
   ],
   "source": [
    "# Note start time\n",
    "start = timeit.default_timer()\n",
    "# Train classifier\n",
    "classifier.fit(x_train,y_train)\n",
    "# Predict the value of training data\n",
    "predicted = classifier.predict(x_test)\n",
    "# Note stop time\n",
    "stop = timeit.default_timer()\n",
    "print(predicted)"
   ]
  },
  {
   "cell_type": "code",
   "execution_count": 21,
   "metadata": {},
   "outputs": [
    {
     "data": {
      "image/png": "[encoded data removed]",
      "text/plain": [
       "<Figure size 432x288 with 2 Axes>"
      ]
     },
     "metadata": {
      "needs_background": "light"
     },
     "output_type": "display_data"
    }
   ],
   "source": [
    "conf_mat = confusion_matrix(y_test,predicted)\n",
    "plt.imshow(conf_mat, interpolation = 'nearest', cmap=plt.cm.Blues)\n",
    "plt.title(\"Confusion matrix for Logistic regression\")\n",
    "plt.colorbar()\n",
    "ticks = np.arange(2)\n",
    "plt.xticks(ticks,ticks)\n",
    "plt.yticks(ticks,ticks)\n",
    "\n",
    "thresh = conf_mat.max()/2\n",
    "for i,j in itertools.product(range(conf_mat.shape[0]),range(conf_mat.shape[1])):\n",
    "    plt.text(j,i,format(conf_mat[i,j],'d'),\n",
    "            horizontalalignment='center',\n",
    "            color = 'white' if conf_mat[i,j]>thresh else 'black')\n",
    "plt.ylabel('True Labels')\n",
    "plt.xlabel('Predicted labels')\n",
    "plt.show()"
   ]
  },
  {
   "cell_type": "code",
   "execution_count": 22,
   "metadata": {},
   "outputs": [
    {
     "name": "stdout",
     "output_type": "stream",
     "text": [
      "Accuracy: 79.15791800198917%\n",
      "Time taken 0.16229754500000126\n"
     ]
    }
   ],
   "source": [
    "accuracy = accuracy_score(predicted,y_test)\n",
    "print(\"Accuracy: \" + str(accuracy*100) + \"%\")\n",
    "scores['Logistic Regression'] = accuracy*100\n",
    "print(\"Time taken\", stop-start)\n",
    "time['Logistic Regression'] = stop-start"
   ]
  },
  {
   "cell_type": "code",
   "execution_count": 23,
   "metadata": {},
   "outputs": [
    {
     "name": "stdout",
     "output_type": "stream",
     "text": [
      "              precision    recall  f1-score   support\n",
      "\n",
      "           0       0.80      0.97      0.87      6812\n",
      "           1       0.72      0.26      0.38      2237\n",
      "\n",
      "    accuracy                           0.79      9049\n",
      "   macro avg       0.76      0.61      0.63      9049\n",
      "weighted avg       0.78      0.79      0.75      9049\n",
      "\n"
     ]
    }
   ],
   "source": [
    "print(classification_report(y_test,predicted))"
   ]
  },
  {
   "cell_type": "code",
   "execution_count": 24,
   "metadata": {},
   "outputs": [],
   "source": [
    "# BENCHMARKING THE RESULTS OBTAINED IN DIFFERENT CLASSIFIERS"
   ]
  },
  {
   "cell_type": "code",
   "execution_count": 50,
   "metadata": {},
   "outputs": [
    {
     "name": "stdout",
     "output_type": "stream",
     "text": [
      "78.48381036578628 78.8475565280817 79.15791800198917\n",
      "SVM Naive Bayes Logistic Regression\n"
     ]
    },
    {
     "data": {
      "image/png": "[encoded data removed]",
      "text/plain": [
       "<Figure size 432x288 with 1 Axes>"
      ]
     },
     "metadata": {
      "needs_background": "light"
     },
     "output_type": "display_data"
    }
   ],
   "source": [
    "plot_y = np.array(list(scores.keys()))\n",
    "plot_x = np.array(list(scores.values()))\n",
    "print(*plot_x,sep = \" \")\n",
    "print(*plot_y,sep = \" \")\n",
    "\n",
    "index = np.arange(len(plot_y))\n",
    "plt.bar(index,plot_x)\n",
    "plt.title(\"Classifier vs Accuracy\")\n",
    "plt.ylabel('Accuracy Score')\n",
    "plt.xlabel('Classifiers')\n",
    "plt.xticks(index,plot_y,fontsize = 10)\n",
    "plt.ylim(75,80)\n",
    "for i in range(len(index)):\n",
    "    plt.text(x = i-0.2, y = plot_x[i]+0.1, s = plot_x[i].round(2),size = 10)\n",
    "plt.show()"
   ]
  },
  {
   "cell_type": "code",
   "execution_count": 52,
   "metadata": {},
   "outputs": [
    {
     "name": "stdout",
     "output_type": "stream",
     "text": [
      "13.275299517999883 0.05354986200018175 0.16229754500000126\n",
      "SVM Naive Bayes Logistic Regression\n"
     ]
    },
    {
     "data": {
      "image/png": "[encoded data removed]",
      "text/plain": [
       "<Figure size 432x288 with 1 Axes>"
      ]
     },
     "metadata": {
      "needs_background": "light"
     },
     "output_type": "display_data"
    }
   ],
   "source": [
    "time_x = np.array(list(time.values()))\n",
    "time_y = np.array(list(time.keys()))\n",
    "print(*time_x,sep=\" \")\n",
    "print(*time_y,sep=\" \")\n",
    "\n",
    "index = np.arange(len(time_y))\n",
    "plt.bar(index,time_x)\n",
    "plt.title(\"Classifier vs Time\")\n",
    "plt.ylabel('Time taken')\n",
    "plt.xlabel('Classifiers')\n",
    "plt.xticks(index,time_y,fontsize = 10)\n",
    "# plt.ylim(75,80)\n",
    "for i in range(len(index)):\n",
    "    plt.text(x = i-0.2, y = time_x[i]+0.1, s = str(time_x[i].round(2))+'s',size = 10)\n",
    "plt.show()"
   ]
  },
  {
   "cell_type": "code",
   "execution_count": null,
   "metadata": {},
   "outputs": [],
   "source": []
  }
 ],
 "metadata": {
  "kernelspec": {
   "display_name": "Python 3",
   "language": "python",
   "name": "python3"
  },
  "language_info": {
   "codemirror_mode": {
    "name": "ipython",
    "version": 3
   },
   "file_extension": ".py",
   "mimetype": "text/x-python",
   "name": "python",
   "nbconvert_exporter": "python",
   "pygments_lexer": "ipython3",
   "version": "3.7.3"
  }
 },
 "nbformat": 4,
 "nbformat_minor": 2
}
